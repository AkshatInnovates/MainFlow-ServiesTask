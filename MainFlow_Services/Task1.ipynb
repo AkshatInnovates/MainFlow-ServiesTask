{
 "cells": [
  {
   "cell_type": "code",
   "execution_count": 1,
   "id": "14e2780c",
   "metadata": {},
   "outputs": [
    {
     "name": "stdout",
     "output_type": "stream",
     "text": [
      "List Operations\n",
      "Original List: [1, 2, 3, 4, 5]\n",
      "List after adding an element: [1, 2, 3, 4, 5, 6]\n",
      "List after removing an element: [1, 2, 4, 5, 6]\n",
      "List after modifying an element: [1, 2, 10, 5, 6]\n",
      "\n",
      "Dictionary Operations\n",
      "Original Dictionary: {'a': 1, 'b': 2, 'c': 3}\n",
      "Dictionary after adding a key-value pair: {'a': 1, 'b': 2, 'c': 3, 'd': 4}\n",
      "Dictionary after removing a key-value pair: {'a': 1, 'c': 3, 'd': 4}\n",
      "Dictionary after modifying a value: {'a': 1, 'c': 10, 'd': 4}\n",
      "\n",
      "Set Operations\n",
      "Original Set: {1, 2, 3, 4, 5}\n",
      "Set after adding an element: {1, 2, 3, 4, 5, 6}\n",
      "Set after removing an element: {1, 2, 4, 5, 6}\n",
      "Union of sets: {1, 2, 4, 5, 6, 7, 8}\n",
      "Intersection of sets: {4, 5, 6}\n"
     ]
    }
   ],
   "source": [
    "# List Operations\n",
    "print(\"List Operations\")\n",
    "my_list = [1, 2, 3, 4, 5]\n",
    "print(\"Original List:\", my_list)\n",
    "\n",
    "# Adding elements\n",
    "my_list.append(6)\n",
    "print(\"List after adding an element:\", my_list)\n",
    "\n",
    "# Removing elements\n",
    "my_list.remove(3)\n",
    "print(\"List after removing an element:\", my_list)\n",
    "\n",
    "# Modifying elements\n",
    "my_list[2] = 10\n",
    "print(\"List after modifying an element:\", my_list)\n",
    "\n",
    "# Dictionary Operations\n",
    "print(\"\\nDictionary Operations\")\n",
    "my_dict = {'a': 1, 'b': 2, 'c': 3}\n",
    "print(\"Original Dictionary:\", my_dict)\n",
    "\n",
    "# Adding key-value pairs\n",
    "my_dict['d'] = 4\n",
    "print(\"Dictionary after adding a key-value pair:\", my_dict)\n",
    "\n",
    "# Removing key-value pairs\n",
    "del my_dict['b']\n",
    "print(\"Dictionary after removing a key-value pair:\", my_dict)\n",
    "\n",
    "# Modifying values\n",
    "my_dict['c'] = 10\n",
    "print(\"Dictionary after modifying a value:\", my_dict)\n",
    "\n",
    "# Set Operations\n",
    "print(\"\\nSet Operations\")\n",
    "my_set = {1, 2, 3, 4, 5}\n",
    "print(\"Original Set:\", my_set)\n",
    "\n",
    "# Adding elements\n",
    "my_set.add(6)\n",
    "print(\"Set after adding an element:\", my_set)\n",
    "\n",
    "# Removing elements\n",
    "my_set.remove(3)\n",
    "print(\"Set after removing an element:\", my_set)\n",
    "\n",
    "# Set operations: union and intersection\n",
    "another_set = {4, 5, 6, 7, 8}\n",
    "union_set = my_set.union(another_set)\n",
    "intersection_set = my_set.intersection(another_set)\n",
    "print(\"Union of sets:\", union_set)\n",
    "print(\"Intersection of sets:\", intersection_set)\n"
   ]
  },
  {
   "cell_type": "code",
   "execution_count": null,
   "id": "d2efe6f5",
   "metadata": {},
   "outputs": [],
   "source": []
  }
 ],
 "metadata": {
  "kernelspec": {
   "display_name": "Python 3 (ipykernel)",
   "language": "python",
   "name": "python3"
  },
  "language_info": {
   "codemirror_mode": {
    "name": "ipython",
    "version": 3
   },
   "file_extension": ".py",
   "mimetype": "text/x-python",
   "name": "python",
   "nbconvert_exporter": "python",
   "pygments_lexer": "ipython3",
   "version": "3.9.12"
  }
 },
 "nbformat": 4,
 "nbformat_minor": 5
}
